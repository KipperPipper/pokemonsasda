{
  "nbformat": 4,
  "nbformat_minor": 0,
  "metadata": {
    "colab": {
      "name": "pokemon (no images,file too large) .ipynb",
      "provenance": [],
      "collapsed_sections": [],
      "toc_visible": true
    },
    "kernelspec": {
      "name": "python3",
      "display_name": "Python 3"
    },
    "accelerator": "GPU"
  },
  "cells": [
    {
      "cell_type": "code",
      "metadata": {
        "id": "Ct7MKnsVKaUf",
        "colab_type": "code",
        "colab": {}
      },
      "source": [
        "SETUP = True"
      ],
      "execution_count": 0,
      "outputs": []
    },
    {
      "cell_type": "code",
      "metadata": {
        "id": "jT1QhvgDLmlx",
        "colab_type": "code",
        "outputId": "55bd66f8-ac3e-497f-f720-5b9ba4c1a00e",
        "colab": {
          "base_uri": "https://localhost:8080/",
          "height": 35
        }
      },
      "source": [
        "try:\n",
        "    %tensorflow_version 2.x\n",
        "except:\n",
        "    pass"
      ],
      "execution_count": 2,
      "outputs": [
        {
          "output_type": "stream",
          "text": [
            "TensorFlow 2.x selected.\n"
          ],
          "name": "stdout"
        }
      ]
    },
    {
      "cell_type": "code",
      "metadata": {
        "id": "oWR5dogtKwFr",
        "colab_type": "code",
        "outputId": "14a4228b-12ce-4ab5-999b-1c4b594cb452",
        "colab": {
          "base_uri": "https://localhost:8080/",
          "height": 290
        }
      },
      "source": [
        "if SETUP:\n",
        "    !pip install -q -U toai\n",
        "    \n",
        "    !mkdir -p ~/.kaggle\n",
        "    !cp kaggle.json ~/.kaggle/\n",
        "    !chmod 600 ~/.kaggle/kaggle.json\n",
        "    !pip install -q kaggle\n",
        "    \n",
        "    print(__import__(\"toai\").__version__)\n",
        "    print(__import__(\"tensorflow\").__version__)"
      ],
      "execution_count": 3,
      "outputs": [
        {
          "output_type": "stream",
          "text": [
            "\u001b[K     |████████████████████████████████| 153kB 5.3MB/s \n",
            "\u001b[K     |████████████████████████████████| 296kB 16.4MB/s \n",
            "\u001b[K     |████████████████████████████████| 81kB 10.0MB/s \n",
            "\u001b[K     |████████████████████████████████| 552kB 10.6MB/s \n",
            "\u001b[K     |████████████████████████████████| 61kB 8.3MB/s \n",
            "\u001b[K     |████████████████████████████████| 122kB 19.6MB/s \n",
            "\u001b[?25h  Building wheel for fastparquet (setup.py) ... \u001b[?25l\u001b[?25hdone\n",
            "  Building wheel for funcy (setup.py) ... \u001b[?25l\u001b[?25hdone\n",
            "  Building wheel for thrift (setup.py) ... \u001b[?25l\u001b[?25hdone\n",
            "\u001b[31mERROR: google-colab 1.0.0 has requirement google-auth~=1.4.0, but you'll have google-auth 1.10.0 which is incompatible.\u001b[0m\n",
            "\u001b[31mERROR: google-colab 1.0.0 has requirement requests~=2.21.0, but you'll have requests 2.22.0 which is incompatible.\u001b[0m\n",
            "\u001b[31mERROR: google-colab 1.0.0 has requirement six~=1.12.0, but you'll have six 1.13.0 which is incompatible.\u001b[0m\n",
            "\u001b[31mERROR: datascience 0.10.6 has requirement folium==0.2.1, but you'll have folium 0.8.3 which is incompatible.\u001b[0m\n",
            "0.3.9\n",
            "2.1.0-rc1\n"
          ],
          "name": "stdout"
        }
      ]
    },
    {
      "cell_type": "code",
      "metadata": {
        "id": "tmbzb8oTZpcr",
        "colab_type": "code",
        "outputId": "7a3085d3-e007-4841-c453-7a34bf28dfba",
        "colab": {
          "base_uri": "https://localhost:8080/",
          "height": 35
        }
      },
      "source": [
        "print(__import__(\"tensorflow\").__version__)"
      ],
      "execution_count": 4,
      "outputs": [
        {
          "output_type": "stream",
          "text": [
            "2.1.0-rc1\n"
          ],
          "name": "stdout"
        }
      ]
    },
    {
      "cell_type": "code",
      "metadata": {
        "id": "xYFUBEpYLg2v",
        "colab_type": "code",
        "outputId": "1a5a19c9-d311-436a-c6be-36e1e16b0831",
        "colab": {
          "base_uri": "https://localhost:8080/",
          "height": 110
        }
      },
      "source": [
        "from toai.imports import *\n",
        "import tensorflow as tf\n",
        "from tensorflow import keras\n",
        "from PIL import Image\n",
        "import matplotlib.pyplot as plt\n",
        "import matplotlib.image as mpimg\n",
        "from PIL import Image\n",
        "import os\n",
        "import cv2\n",
        "plt.style.use('classic')\n",
        "%matplotlib inline"
      ],
      "execution_count": 5,
      "outputs": [
        {
          "output_type": "stream",
          "text": [
            "/usr/local/lib/python3.6/dist-packages/sklearn/externals/joblib/__init__.py:15: FutureWarning: sklearn.externals.joblib is deprecated in 0.21 and will be removed in 0.23. Please import this functionality directly from joblib, which can be installed with: pip install joblib. If this warning is raised when loading pickled models, you may need to re-serialize those models with scikit-learn 0.21+.\n",
            "  warnings.warn(msg, category=FutureWarning)\n",
            "/usr/local/lib/python3.6/dist-packages/sklearn/utils/deprecation.py:144: FutureWarning: The sklearn.metrics.scorer module is  deprecated in version 0.22 and will be removed in version 0.24. The corresponding classes / functions should instead be imported from sklearn.metrics. Anything that cannot be imported from sklearn.metrics is now part of the private API.\n",
            "  warnings.warn(message, FutureWarning)\n"
          ],
          "name": "stderr"
        }
      ]
    },
    {
      "cell_type": "code",
      "metadata": {
        "id": "o8T8MBzEMM-r",
        "colab_type": "code",
        "colab": {}
      },
      "source": [
        "DATA_DIR = Path(\"data/pokemon\")\n",
        "DATA_DIR.mkdir(parents=True, exist_ok=True)\n",
        "\n",
        "TEMP_DIR = Path(\"temp/pokemon\")\n",
        "TEMP_DIR.mkdir(parents=True, exist_ok=True)\n",
        "\n",
        "DATA_DIR_2 = Path(\"data_2/pokemon\")\n",
        "DATA_DIR_2.mkdir(parents=True, exist_ok=True)\n",
        "\n",
        "TEMP_DIR = Path(\"temp/pokemon_2\")\n",
        "TEMP_DIR.mkdir(parents=True, exist_ok=True)\n",
        "\n"
      ],
      "execution_count": 0,
      "outputs": []
    },
    {
      "cell_type": "code",
      "metadata": {
        "id": "UyU6hryQMsio",
        "colab_type": "code",
        "colab": {}
      },
      "source": [
        "if SETUP:\n",
        "    \n",
        "    DATA_DIR.mkdir(parents=True, exist_ok=True)\n",
        "    TEMP_DIR.mkdir(parents=True, exist_ok=True)\n",
        "    kaggle.api.authenticate()\n",
        "    kaggle.api.dataset_download_files(\n",
        "        dataset=\"vishalsubbiah/pokemon-images-and-types\", path=DATA_DIR, unzip=True\n",
        "    )"
      ],
      "execution_count": 0,
      "outputs": []
    },
    {
      "cell_type": "code",
      "metadata": {
        "id": "UUNwSZ2e76vM",
        "colab_type": "code",
        "colab": {}
      },
      "source": [
        "if SETUP:\n",
        "    \n",
        "    DATA_DIR.mkdir(parents=True, exist_ok=True)\n",
        "    TEMP_DIR.mkdir(parents=True, exist_ok=True)\n",
        "    kaggle.api.authenticate()\n",
        "    kaggle.api.dataset_download_files(\n",
        "        dataset=\"kvpratama/pokemon-images-dataset\", path=DATA_DIR_2, unzip=True\n",
        "    )"
      ],
      "execution_count": 0,
      "outputs": []
    },
    {
      "cell_type": "markdown",
      "metadata": {
        "id": "iXUADEKgUTPH",
        "colab_type": "text"
      },
      "source": [
        "# EDA"
      ]
    },
    {
      "cell_type": "code",
      "metadata": {
        "id": "BMesXjiHMznb",
        "colab_type": "code",
        "colab": {}
      },
      "source": [
        "df = pd.read_csv(DATA_DIR/'pokemon.csv')"
      ],
      "execution_count": 0,
      "outputs": []
    },
    {
      "cell_type": "code",
      "metadata": {
        "id": "2WxS-_t70ONU",
        "colab_type": "code",
        "colab": {}
      },
      "source": [
        "images = Path('data/pokemon/images/images')"
      ],
      "execution_count": 0,
      "outputs": []
    },
    {
      "cell_type": "code",
      "metadata": {
        "id": "Lyf94p4L-zBG",
        "colab_type": "code",
        "colab": {}
      },
      "source": [
        "images_2 = Path('data_2/pokemon/pokemon/pokemon')"
      ],
      "execution_count": 0,
      "outputs": []
    },
    {
      "cell_type": "code",
      "metadata": {
        "id": "KUz83xQeNED7",
        "colab_type": "code",
        "outputId": "9f59936d-cf0c-43ec-df31-4e08496f61d6",
        "colab": {
          "base_uri": "https://localhost:8080/",
          "height": 206
        }
      },
      "source": [
        "df.head()"
      ],
      "execution_count": 12,
      "outputs": [
        {
          "output_type": "execute_result",
          "data": {
            "text/html": [
              "<div>\n",
              "<style scoped>\n",
              "    .dataframe tbody tr th:only-of-type {\n",
              "        vertical-align: middle;\n",
              "    }\n",
              "\n",
              "    .dataframe tbody tr th {\n",
              "        vertical-align: top;\n",
              "    }\n",
              "\n",
              "    .dataframe thead th {\n",
              "        text-align: right;\n",
              "    }\n",
              "</style>\n",
              "<table border=\"1\" class=\"dataframe\">\n",
              "  <thead>\n",
              "    <tr style=\"text-align: right;\">\n",
              "      <th></th>\n",
              "      <th>Name</th>\n",
              "      <th>Type1</th>\n",
              "      <th>Type2</th>\n",
              "    </tr>\n",
              "  </thead>\n",
              "  <tbody>\n",
              "    <tr>\n",
              "      <th>0</th>\n",
              "      <td>bulbasaur</td>\n",
              "      <td>Grass</td>\n",
              "      <td>Poison</td>\n",
              "    </tr>\n",
              "    <tr>\n",
              "      <th>1</th>\n",
              "      <td>ivysaur</td>\n",
              "      <td>Grass</td>\n",
              "      <td>Poison</td>\n",
              "    </tr>\n",
              "    <tr>\n",
              "      <th>2</th>\n",
              "      <td>venusaur</td>\n",
              "      <td>Grass</td>\n",
              "      <td>Poison</td>\n",
              "    </tr>\n",
              "    <tr>\n",
              "      <th>3</th>\n",
              "      <td>charmander</td>\n",
              "      <td>Fire</td>\n",
              "      <td>NaN</td>\n",
              "    </tr>\n",
              "    <tr>\n",
              "      <th>4</th>\n",
              "      <td>charmeleon</td>\n",
              "      <td>Fire</td>\n",
              "      <td>NaN</td>\n",
              "    </tr>\n",
              "  </tbody>\n",
              "</table>\n",
              "</div>"
            ],
            "text/plain": [
              "         Name  Type1   Type2\n",
              "0   bulbasaur  Grass  Poison\n",
              "1     ivysaur  Grass  Poison\n",
              "2    venusaur  Grass  Poison\n",
              "3  charmander   Fire     NaN\n",
              "4  charmeleon   Fire     NaN"
            ]
          },
          "metadata": {
            "tags": []
          },
          "execution_count": 12
        }
      ]
    },
    {
      "cell_type": "code",
      "metadata": {
        "id": "90Z1iL7BNFkd",
        "colab_type": "code",
        "outputId": "3b0d325c-3f8b-4b6f-ef57-74bf666ac426",
        "colab": {
          "base_uri": "https://localhost:8080/",
          "height": 90
        }
      },
      "source": [
        "df.isna().sum()"
      ],
      "execution_count": 13,
      "outputs": [
        {
          "output_type": "execute_result",
          "data": {
            "text/plain": [
              "Name       0\n",
              "Type1      0\n",
              "Type2    404\n",
              "dtype: int64"
            ]
          },
          "metadata": {
            "tags": []
          },
          "execution_count": 13
        }
      ]
    },
    {
      "cell_type": "code",
      "metadata": {
        "id": "ROrUdCpaNiJa",
        "colab_type": "code",
        "outputId": "ab6a6a66-4f16-4ec3-8bec-090d86970a47",
        "colab": {
          "base_uri": "https://localhost:8080/",
          "height": 175
        }
      },
      "source": [
        "df.describe()"
      ],
      "execution_count": 14,
      "outputs": [
        {
          "output_type": "execute_result",
          "data": {
            "text/html": [
              "<div>\n",
              "<style scoped>\n",
              "    .dataframe tbody tr th:only-of-type {\n",
              "        vertical-align: middle;\n",
              "    }\n",
              "\n",
              "    .dataframe tbody tr th {\n",
              "        vertical-align: top;\n",
              "    }\n",
              "\n",
              "    .dataframe thead th {\n",
              "        text-align: right;\n",
              "    }\n",
              "</style>\n",
              "<table border=\"1\" class=\"dataframe\">\n",
              "  <thead>\n",
              "    <tr style=\"text-align: right;\">\n",
              "      <th></th>\n",
              "      <th>Name</th>\n",
              "      <th>Type1</th>\n",
              "      <th>Type2</th>\n",
              "    </tr>\n",
              "  </thead>\n",
              "  <tbody>\n",
              "    <tr>\n",
              "      <th>count</th>\n",
              "      <td>809</td>\n",
              "      <td>809</td>\n",
              "      <td>405</td>\n",
              "    </tr>\n",
              "    <tr>\n",
              "      <th>unique</th>\n",
              "      <td>809</td>\n",
              "      <td>18</td>\n",
              "      <td>18</td>\n",
              "    </tr>\n",
              "    <tr>\n",
              "      <th>top</th>\n",
              "      <td>solrock</td>\n",
              "      <td>Water</td>\n",
              "      <td>Flying</td>\n",
              "    </tr>\n",
              "    <tr>\n",
              "      <th>freq</th>\n",
              "      <td>1</td>\n",
              "      <td>114</td>\n",
              "      <td>95</td>\n",
              "    </tr>\n",
              "  </tbody>\n",
              "</table>\n",
              "</div>"
            ],
            "text/plain": [
              "           Name  Type1   Type2\n",
              "count       809    809     405\n",
              "unique      809     18      18\n",
              "top     solrock  Water  Flying\n",
              "freq          1    114      95"
            ]
          },
          "metadata": {
            "tags": []
          },
          "execution_count": 14
        }
      ]
    },
    {
      "cell_type": "code",
      "metadata": {
        "id": "hqHvFWuvTrjg",
        "colab_type": "code",
        "outputId": "f188234f-5796-46ff-fc96-6a4956db6fb1",
        "colab": {
          "base_uri": "https://localhost:8080/",
          "height": 162
        }
      },
      "source": [
        "df.info()"
      ],
      "execution_count": 15,
      "outputs": [
        {
          "output_type": "stream",
          "text": [
            "<class 'pandas.core.frame.DataFrame'>\n",
            "RangeIndex: 809 entries, 0 to 808\n",
            "Data columns (total 3 columns):\n",
            "Name     809 non-null object\n",
            "Type1    809 non-null object\n",
            "Type2    405 non-null object\n",
            "dtypes: object(3)\n",
            "memory usage: 19.1+ KB\n"
          ],
          "name": "stdout"
        }
      ]
    },
    {
      "cell_type": "code",
      "metadata": {
        "id": "9SQAhGQVhitW",
        "colab_type": "code",
        "colab": {}
      },
      "source": [
        "df['path'] = df['Name'].map(lambda x: os.path.join(images,'{}.png'.format(x)))"
      ],
      "execution_count": 0,
      "outputs": []
    },
    {
      "cell_type": "code",
      "metadata": {
        "id": "VDHHurWxfBpz",
        "colab_type": "code",
        "outputId": "1b498e18-cca7-4715-932b-27ff94a73058",
        "colab": {
          "base_uri": "https://localhost:8080/",
          "height": 206
        }
      },
      "source": [
        "df.head()"
      ],
      "execution_count": 0,
      "outputs": [
        {
          "output_type": "execute_result",
          "data": {
            "text/html": [
              "<div>\n",
              "<style scoped>\n",
              "    .dataframe tbody tr th:only-of-type {\n",
              "        vertical-align: middle;\n",
              "    }\n",
              "\n",
              "    .dataframe tbody tr th {\n",
              "        vertical-align: top;\n",
              "    }\n",
              "\n",
              "    .dataframe thead th {\n",
              "        text-align: right;\n",
              "    }\n",
              "</style>\n",
              "<table border=\"1\" class=\"dataframe\">\n",
              "  <thead>\n",
              "    <tr style=\"text-align: right;\">\n",
              "      <th></th>\n",
              "      <th>Name</th>\n",
              "      <th>Type1</th>\n",
              "      <th>Type2</th>\n",
              "      <th>path</th>\n",
              "    </tr>\n",
              "  </thead>\n",
              "  <tbody>\n",
              "    <tr>\n",
              "      <th>0</th>\n",
              "      <td>bulbasaur</td>\n",
              "      <td>Grass</td>\n",
              "      <td>Poison</td>\n",
              "      <td>data/pokemon/images/images/bulbasaur.png</td>\n",
              "    </tr>\n",
              "    <tr>\n",
              "      <th>1</th>\n",
              "      <td>ivysaur</td>\n",
              "      <td>Grass</td>\n",
              "      <td>Poison</td>\n",
              "      <td>data/pokemon/images/images/ivysaur.png</td>\n",
              "    </tr>\n",
              "    <tr>\n",
              "      <th>2</th>\n",
              "      <td>venusaur</td>\n",
              "      <td>Grass</td>\n",
              "      <td>Poison</td>\n",
              "      <td>data/pokemon/images/images/venusaur.png</td>\n",
              "    </tr>\n",
              "    <tr>\n",
              "      <th>3</th>\n",
              "      <td>charmander</td>\n",
              "      <td>Fire</td>\n",
              "      <td>NaN</td>\n",
              "      <td>data/pokemon/images/images/charmander.png</td>\n",
              "    </tr>\n",
              "    <tr>\n",
              "      <th>4</th>\n",
              "      <td>charmeleon</td>\n",
              "      <td>Fire</td>\n",
              "      <td>NaN</td>\n",
              "      <td>data/pokemon/images/images/charmeleon.png</td>\n",
              "    </tr>\n",
              "  </tbody>\n",
              "</table>\n",
              "</div>"
            ],
            "text/plain": [
              "         Name  Type1   Type2                                       path\n",
              "0   bulbasaur  Grass  Poison   data/pokemon/images/images/bulbasaur.png\n",
              "1     ivysaur  Grass  Poison     data/pokemon/images/images/ivysaur.png\n",
              "2    venusaur  Grass  Poison    data/pokemon/images/images/venusaur.png\n",
              "3  charmander   Fire     NaN  data/pokemon/images/images/charmander.png\n",
              "4  charmeleon   Fire     NaN  data/pokemon/images/images/charmeleon.png"
            ]
          },
          "metadata": {
            "tags": []
          },
          "execution_count": 12
        }
      ]
    },
    {
      "cell_type": "code",
      "metadata": {
        "id": "qF6nuwNBDNB0",
        "colab_type": "code",
        "outputId": "b2b7cede-b62d-4794-a0d9-45d634212d6d",
        "colab": {
          "base_uri": "https://localhost:8080/",
          "height": 287
        }
      },
      "source": [
        "im = Image.open(df['path'][8])\n",
        "width, height = im.size\n",
        "plt.imshow(im)\n",
        "plt.axis(\"off\")\n",
        "plt.title(df['Name'][8])"
      ],
      "execution_count": 0,
      "outputs": [
        {
          "output_type": "execute_result",
          "data": {
            "text/plain": [
              "Text(0.5, 1.0, 'blastoise')"
            ]
          },
          "metadata": {
            "tags": []
          },
          "execution_count": 14
        },
        {
          "output_type": "display_data",
          "data": {
            "image/png": "[encoded data removed]",
            "text/plain": [
              "<Figure size 432x288 with 1 Axes>"
            ]
          },
          "metadata": {
            "tags": []
          }
        }
      ]
    },
    {
      "cell_type": "code",
      "metadata": {
        "colab_type": "code",
        "outputId": "cd75fc08-d605-4457-9308-8f440ed57a0f",
        "id": "HW2CJaiSBXhW",
        "colab": {
          "base_uri": "https://localhost:8080/",
          "height": 269
        }
      },
      "source": [
        "for i in range(9):\n",
        "  im = Image.open(df['path'][i])\n",
        "  width, height = im.size\n",
        "  plt.imshow(im)\n",
        "  plt.axis(\"off\")\n",
        "  plt.title('new blastoise')"
      ],
      "execution_count": 524,
      "outputs": [
        {
          "output_type": "display_data",
          "data": {
            "image/png": "[encoded data removed]",
            "text/plain": [
              "<Figure size 432x288 with 1 Axes>"
            ]
          },
          "metadata": {
            "tags": []
          }
        }
      ]
    },
    {
      "cell_type": "code",
      "metadata": {
        "id": "OdJZ20OtRp9B",
        "colab_type": "code",
        "outputId": "ce031c52-3e8d-4159-cdf9-b9dbab01e300",
        "colab": {
          "base_uri": "https://localhost:8080/",
          "height": 206
        }
      },
      "source": [
        "df.head()"
      ],
      "execution_count": 0,
      "outputs": [
        {
          "output_type": "execute_result",
          "data": {
            "text/html": [
              "<div>\n",
              "<style scoped>\n",
              "    .dataframe tbody tr th:only-of-type {\n",
              "        vertical-align: middle;\n",
              "    }\n",
              "\n",
              "    .dataframe tbody tr th {\n",
              "        vertical-align: top;\n",
              "    }\n",
              "\n",
              "    .dataframe thead th {\n",
              "        text-align: right;\n",
              "    }\n",
              "</style>\n",
              "<table border=\"1\" class=\"dataframe\">\n",
              "  <thead>\n",
              "    <tr style=\"text-align: right;\">\n",
              "      <th></th>\n",
              "      <th>Name</th>\n",
              "      <th>Type1</th>\n",
              "      <th>Type2</th>\n",
              "      <th>path</th>\n",
              "    </tr>\n",
              "  </thead>\n",
              "  <tbody>\n",
              "    <tr>\n",
              "      <th>0</th>\n",
              "      <td>bulbasaur</td>\n",
              "      <td>Grass</td>\n",
              "      <td>Poison</td>\n",
              "      <td>data/pokemon/images/images/bulbasaur.png</td>\n",
              "    </tr>\n",
              "    <tr>\n",
              "      <th>1</th>\n",
              "      <td>ivysaur</td>\n",
              "      <td>Grass</td>\n",
              "      <td>Poison</td>\n",
              "      <td>data/pokemon/images/images/ivysaur.png</td>\n",
              "    </tr>\n",
              "    <tr>\n",
              "      <th>2</th>\n",
              "      <td>venusaur</td>\n",
              "      <td>Grass</td>\n",
              "      <td>Poison</td>\n",
              "      <td>data/pokemon/images/images/venusaur.png</td>\n",
              "    </tr>\n",
              "    <tr>\n",
              "      <th>3</th>\n",
              "      <td>charmander</td>\n",
              "      <td>Fire</td>\n",
              "      <td>NaN</td>\n",
              "      <td>data/pokemon/images/images/charmander.png</td>\n",
              "    </tr>\n",
              "    <tr>\n",
              "      <th>4</th>\n",
              "      <td>charmeleon</td>\n",
              "      <td>Fire</td>\n",
              "      <td>NaN</td>\n",
              "      <td>data/pokemon/images/images/charmeleon.png</td>\n",
              "    </tr>\n",
              "  </tbody>\n",
              "</table>\n",
              "</div>"
            ],
            "text/plain": [
              "         Name  Type1   Type2                                       path\n",
              "0   bulbasaur  Grass  Poison   data/pokemon/images/images/bulbasaur.png\n",
              "1     ivysaur  Grass  Poison     data/pokemon/images/images/ivysaur.png\n",
              "2    venusaur  Grass  Poison    data/pokemon/images/images/venusaur.png\n",
              "3  charmander   Fire     NaN  data/pokemon/images/images/charmander.png\n",
              "4  charmeleon   Fire     NaN  data/pokemon/images/images/charmeleon.png"
            ]
          },
          "metadata": {
            "tags": []
          },
          "execution_count": 15
        }
      ]
    },
    {
      "cell_type": "code",
      "metadata": {
        "id": "q9I27n-GZICz",
        "colab_type": "code",
        "colab": {}
      },
      "source": [
        "BATCH_SIZE = 32\n",
        "SHUFFLE_SIZE = 1024"
      ],
      "execution_count": 0,
      "outputs": []
    },
    {
      "cell_type": "code",
      "metadata": {
        "id": "5KRPpXi5oS0C",
        "colab_type": "code",
        "colab": {}
      },
      "source": [
        "#IMG_DIMS = (64, 64, 3)"
      ],
      "execution_count": 0,
      "outputs": []
    },
    {
      "cell_type": "code",
      "metadata": {
        "id": "fU03vFkUaZiE",
        "colab_type": "code",
        "colab": {}
      },
      "source": [
        "import attr\n",
        "from typing import Optional\n",
        "\n",
        "\n",
        "@attr.s(auto_attribs=True)\n",
        "class ImageAugmentor:\n",
        "    level: int = 0\n",
        "    flips: Optional[str] = None\n",
        "    rotate: bool = True\n",
        "\n",
        "    def __call__(self, image: tf.Tensor, label: tf.Tensor) -> tf.Tensor:\n",
        "        if self.flips in [\"horizontal\", \"both\"]:\n",
        "            image = tf.image.random_flip_left_right(image)\n",
        "        if self.flips in [\"vertical\", \"both\"]:\n",
        "            image = tf.image.random_flip_up_down(image)\n",
        "\n",
        "        if self.level > 0:\n",
        "            lower = 1 - 0.1 * self.level\n",
        "            upper = 1 + 0.1 * self.level\n",
        "            min_jpeg_quality = max(0, int((lower - 0.5) * 100))\n",
        "            max_jpeg_quality = min(100, int((upper - 0.5) * 100))\n",
        "            image = tf.image.random_jpeg_quality(\n",
        "                image,\n",
        "                min_jpeg_quality=min_jpeg_quality,\n",
        "                max_jpeg_quality=max_jpeg_quality,\n",
        "            )\n",
        "            image = tf.image.random_contrast(image, lower=lower, upper=upper)\n",
        "            image = tf.image.random_saturation(image, lower=lower, upper=upper)\n",
        "            if self.rotate:\n",
        "                image = tfa.image.rotate(\n",
        "                    image, tf.random.uniform((), lower - 1, upper - 1)\n",
        "                )\n",
        "            image = tf.clip_by_value(image, 0.0, 1.0)\n",
        "        return image, label"
      ],
      "execution_count": 0,
      "outputs": []
    },
    {
      "cell_type": "code",
      "metadata": {
        "id": "dHOisUxAUs9Y",
        "colab_type": "code",
        "colab": {}
      },
      "source": [
        "import attr\n",
        "\n",
        "@attr.s(auto_attribs=True)\n",
        "class ImageParser:\n",
        "    n_channels: int = 3\n",
        "\n",
        "    def __call__(self, filename: tf.Tensor, label: tf.Tensor) -> tf.Tensor:\n",
        "        image = tf.image.decode_jpeg(\n",
        "            tf.io.read_file(filename), channels=self.n_channels\n",
        "        )\n",
        "        image = tf.image.convert_image_dtype(image, tf.float32)\n",
        "\n",
        "        return image, label"
      ],
      "execution_count": 0,
      "outputs": []
    },
    {
      "cell_type": "code",
      "metadata": {
        "id": "05XO7atyWKtl",
        "colab_type": "code",
        "colab": {}
      },
      "source": [
        "@attr.s(auto_attribs=True)\n",
        "class ImageResizer:\n",
        "    img_dims: Tuple[int, int, int]\n",
        "    resize: Optional[str] = None\n",
        "    crop_adjustment: float = 1\n",
        "\n",
        "    def __call__(self, image: tf.Tensor, label: tf.Tensor) -> tf.Tensor:\n",
        "        height, width, _ = self.img_dims\n",
        "        if self.resize == \"stretch\":\n",
        "            image = tf.image.resize(image, (height, width))\n",
        "        elif self.resize == \"crop\":\n",
        "            crop_height, crop_width = [\n",
        "                int(x * self.crop_adjustment) for x in (height, width)\n",
        "            ]\n",
        "            image = tf.image.resize(\n",
        "                images=image, size=(crop_height, crop_width), preserve_aspect_ratio=True\n",
        "            )\n",
        "            image = tf.image.resize_with_crop_or_pad(image, height, width)\n",
        "        elif self.resize == \"random_crop\":\n",
        "            crop_height, crop_width = [\n",
        "                int(x * self.crop_adjustment) for x in (height, width)\n",
        "            ]\n",
        "            image = tf.image.resize(image, (crop_height, crop_width))\n",
        "            image = tf.image.random_crop(image, self.img_dims)\n",
        "\n",
        "        return image, label"
      ],
      "execution_count": 0,
      "outputs": []
    },
    {
      "cell_type": "code",
      "metadata": {
        "id": "LzBFVV5dWNM4",
        "colab_type": "code",
        "colab": {}
      },
      "source": [
        "@attr.s(auto_attribs=True)\n",
        "class ImageScaler:\n",
        "    scale_fn: Callable\n",
        "\n",
        "    def __call__(self, image: tf.Tensor, label: tf.Tensor) -> tf.Tensor:\n",
        "        return self.scale_fn(image), label"
      ],
      "execution_count": 0,
      "outputs": []
    },
    {
      "cell_type": "code",
      "metadata": {
        "id": "fOYo9mSQWPPy",
        "colab_type": "code",
        "colab": {}
      },
      "source": [
        "@tf.function\n",
        "def preprocess_input(x):\n",
        "    return x / 255.0"
      ],
      "execution_count": 0,
      "outputs": []
    },
    {
      "cell_type": "code",
      "metadata": {
        "id": "GWGOXa0wWQ2V",
        "colab_type": "code",
        "colab": {}
      },
      "source": [
        "train_data = (\n",
        "    tf.data.Dataset.from_tensor_slices(([str(x) for x in images.glob('**/*')], os.listdir(images)))\n",
        "    .map(map_func=ImageParser())\n",
        "    .map(map_func=ImageResizer(IMG_DIMS, \"stretch\"))\n",
        "    .repeat()\n",
        "    .shuffle(SHUFFLE_SIZE)\n",
        "    .batch(BATCH_SIZE)\n",
        "    .prefetch(tf.data.experimental.AUTOTUNE)\n",
        ")"
      ],
      "execution_count": 0,
      "outputs": []
    },
    {
      "cell_type": "code",
      "metadata": {
        "id": "XAM8ea4G_tAN",
        "colab_type": "code",
        "colab": {}
      },
      "source": [
        "train_data_2 = (\n",
        "    tf.data.Dataset.from_tensor_slices(([str(x) for x in images_2.glob('**/*')], os.listdir(images_2)))\n",
        "    .map(map_func=ImageParser())\n",
        "    .map(map_func=ImageResizer(IMG_DIMS, \"stretch\"))\n",
        "    #.map(map_func=ImageAugmentor(flips = 'both'))\n",
        "    .repeat()\n",
        "    .shuffle(SHUFFLE_SIZE)\n",
        "    .batch(BATCH_SIZE)\n",
        "    .prefetch(tf.data.experimental.AUTOTUNE)\n",
        ")"
      ],
      "execution_count": 0,
      "outputs": []
    },
    {
      "cell_type": "code",
      "metadata": {
        "id": "m-7aFwSJWmtf",
        "colab_type": "code",
        "outputId": "2c219ef0-6c25-445d-86a8-993bd37610df",
        "colab": {
          "base_uri": "https://localhost:8080/",
          "height": 307
        }
      },
      "source": [
        "for x, y in train_data.take(1):\n",
        "    print(y[0])\n",
        "    print(x[0].numpy().min(), x[0].numpy().max())\n",
        "    plt.imshow(x.numpy()[0])\n",
        "    "
      ],
      "execution_count": 344,
      "outputs": [
        {
          "output_type": "stream",
          "text": [
            "tf.Tensor(b'cubone.png', shape=(), dtype=string)\n",
            "0.0 1.0\n"
          ],
          "name": "stdout"
        },
        {
          "output_type": "display_data",
          "data": {
            "image/png": "[encoded data removed]",
            "text/plain": [
              "<Figure size 432x288 with 1 Axes>"
            ]
          },
          "metadata": {
            "tags": []
          }
        }
      ]
    },
    {
      "cell_type": "code",
      "metadata": {
        "id": "IHAJ_gojCA98",
        "colab_type": "code",
        "colab": {}
      },
      "source": [
        "for x, y in train_data_2.take(1):\n",
        "    print(y[0])\n",
        "    print(x[0].numpy().min(), x[0].numpy().max())\n",
        "    plt.imshow(x.numpy()[0])\n",
        "    "
      ],
      "execution_count": 0,
      "outputs": []
    },
    {
      "cell_type": "code",
      "metadata": {
        "id": "1dBFves4XVYx",
        "colab_type": "code",
        "colab": {}
      },
      "source": [
        "codings_size = 100"
      ],
      "execution_count": 0,
      "outputs": []
    },
    {
      "cell_type": "code",
      "metadata": {
        "id": "YaEMztY7J7Rn",
        "colab_type": "code",
        "colab": {}
      },
      "source": [
        "#wasserstein_loss = keras.backend.mean(train_data,)"
      ],
      "execution_count": 0,
      "outputs": []
    },
    {
      "cell_type": "code",
      "metadata": {
        "id": "QsP-8NgpKqbw",
        "colab_type": "code",
        "colab": {}
      },
      "source": [
        "#discriminator.add_loss(keras.backend.mean(wasserstein_loss) / (120 * 120))"
      ],
      "execution_count": 0,
      "outputs": []
    },
    {
      "cell_type": "markdown",
      "metadata": {
        "id": "LE_p8YUhCz7I",
        "colab_type": "text"
      },
      "source": [
        "# simple Gan"
      ]
    },
    {
      "cell_type": "code",
      "metadata": {
        "id": "K6-d8JP5Xq7H",
        "colab_type": "code",
        "colab": {}
      },
      "source": [
        "generator = keras.models.Sequential(\n",
        "    [\n",
        "        keras.layers.Dense( \n",
        "            256, activation=keras.activations.selu, input_shape=[codings_size]\n",
        "        ),\n",
        "        keras.layers.Dense(512, activation=keras.activations.selu),\n",
        "        keras.layers.Dense(120 * 120 * 3, activation=keras.activations.sigmoid),\n",
        "        keras.layers.Reshape([120, 120, 3]),\n",
        "    ]\n",
        ")"
      ],
      "execution_count": 0,
      "outputs": []
    },
    {
      "cell_type": "code",
      "metadata": {
        "id": "ShjZ54LcXtVN",
        "colab_type": "code",
        "colab": {}
      },
      "source": [
        "discriminator = keras.models.Sequential(\n",
        "    [\n",
        "        keras.layers.Flatten(input_shape=[120, 120, 3]),\n",
        "        keras.layers.Dense(512, activation=keras.activations.selu),\n",
        "        keras.layers.Dense(256, activation=keras.activations.selu),\n",
        "        keras.layers.Dense(1, activation=keras.activations.sigmoid),\n",
        "    ]\n",
        ")"
      ],
      "execution_count": 0,
      "outputs": []
    },
    {
      "cell_type": "code",
      "metadata": {
        "id": "D8B_sHrVXwCm",
        "colab_type": "code",
        "colab": {}
      },
      "source": [
        "gan = keras.models.Sequential([generator, discriminator])\n"
      ],
      "execution_count": 0,
      "outputs": []
    },
    {
      "cell_type": "code",
      "metadata": {
        "id": "XF3obSlPXxqD",
        "colab_type": "code",
        "colab": {}
      },
      "source": [
        "discriminator.compile(\n",
        "    loss=keras.losses.binary_crossentropy, optimizer=keras.optimizers.RMSprop(1e-3)\n",
        ")\n",
        "discriminator.trainable = False\n",
        "gan.compile(\n",
        "    loss=keras.losses.binary_crossentropy, optimizer=keras.optimizers.RMSprop(1e-3)\n",
        ")"
      ],
      "execution_count": 0,
      "outputs": []
    },
    {
      "cell_type": "code",
      "metadata": {
        "id": "0PtAla3NX4PU",
        "colab_type": "code",
        "colab": {}
      },
      "source": [
        "def plot_multiple_images(images, n_cols=None):\n",
        "    n_cols = n_cols or len(images)\n",
        "    n_rows = (len(images) - 1) // n_cols + 1\n",
        "    if images.shape[-1] == 1:\n",
        "        images = np.squeeze(images, axis=-1)\n",
        "    plt.figure(figsize=(n_cols * 2, n_rows * 2))\n",
        "    for index, image in enumerate(images):\n",
        "        plt.subplot(n_rows, n_cols, index + 1)\n",
        "        plt.imshow(image, cmap=\"binary\")\n",
        "        plt.axis(\"off\")"
      ],
      "execution_count": 0,
      "outputs": []
    },
    {
      "cell_type": "code",
      "metadata": {
        "id": "MYSNSQm8X6eP",
        "colab_type": "code",
        "colab": {}
      },
      "source": [
        "def train_gan(gan, dataset, batch_size, codings_size, n_epochs=1):\n",
        "    generator, discriminator = gan.layers\n",
        "    for epoch in range(n_epochs):\n",
        "        print(\"Epoch {}/{}\".format(epoch + 1, n_epochs))\n",
        "        for train_batch, _ in dataset.take(819 // batch_size):\n",
        "\n",
        "            # phase 1 - training the discriminator\n",
        "\n",
        "            noise = tf.random.normal(shape=[batch_size, codings_size])\n",
        "            generated_images = generator(noise)\n",
        "            fake_and_real_data = tf.concat([generated_images, train_batch], axis=0)\n",
        "            fake_and_real_labels = tf.constant([[0.0]] * batch_size + [[1.0]] * batch_size)\n",
        "            discriminator.trainable = True\n",
        "            discriminator.train_on_batch(fake_and_real_data, fake_and_real_labels)\n",
        "\n",
        "            # phase 2 - training the generator\n",
        "\n",
        "            noise = tf.random.normal(shape=[batch_size, codings_size])\n",
        "            noise_labels = tf.constant([[1.0]] * batch_size)\n",
        "            discriminator.trainable = False\n",
        "            gan.train_on_batch(noise, noise_labels)\n",
        "        plot_multiple_images(generated_images, 8)\n",
        "        plt.show()"
      ],
      "execution_count": 0,
      "outputs": []
    },
    {
      "cell_type": "code",
      "metadata": {
        "id": "f2zgCfqjl1R5",
        "colab_type": "code",
        "colab": {
          "base_uri": "https://localhost:8080/",
          "height": 35
        },
        "outputId": "c60939d3-56ba-488d-e84a-602294c94d99"
      },
      "source": [
        "len(os.listdir(images_2))"
      ],
      "execution_count": 33,
      "outputs": [
        {
          "output_type": "execute_result",
          "data": {
            "text/plain": [
              "819"
            ]
          },
          "metadata": {
            "tags": []
          },
          "execution_count": 33
        }
      ]
    },
    {
      "cell_type": "code",
      "metadata": {
        "id": "96a13SnFYFnr",
        "colab_type": "code",
        "colab": {}
      },
      "source": [
        "train_gan(gan, train_data, BATCH_SIZE, codings_size, 50)"
      ],
      "execution_count": 0,
      "outputs": []
    },
    {
      "cell_type": "code",
      "metadata": {
        "id": "FJKfJ3RWCeT-",
        "colab_type": "code",
        "colab": {}
      },
      "source": [
        "generator = keras.models.Sequential(\n",
        "    [\n",
        "        keras.layers.Dense( \n",
        "            256, activation=keras.activations.selu, input_shape=[codings_size]\n",
        "        ),\n",
        "        keras.layers.Dense(512, activation=keras.activations.selu),\n",
        "        keras.layers.Dense(256 * 256 * 3, activation=keras.activations.sigmoid),\n",
        "        keras.layers.Reshape([256, 256, 3]),\n",
        "    ]\n",
        ")"
      ],
      "execution_count": 0,
      "outputs": []
    },
    {
      "cell_type": "code",
      "metadata": {
        "id": "nY2nXeCUOus4",
        "colab_type": "code",
        "colab": {}
      },
      "source": [
        "#train_data_dcgan = train_data.reshape(-1, 28, 28, 1) * 2.0 - 1.0 "
      ],
      "execution_count": 0,
      "outputs": []
    },
    {
      "cell_type": "code",
      "metadata": {
        "id": "qx0IbWBfE1CZ",
        "colab_type": "code",
        "colab": {}
      },
      "source": [
        "discriminator = keras.models.Sequential(\n",
        "    [\n",
        "        keras.layers.Flatten(input_shape=[256, 256, 3]),\n",
        "        keras.layers.Dense(512, activation=keras.activations.selu),\n",
        "        keras.layers.Dense(256, activation=keras.activations.selu),\n",
        "        keras.layers.Dense(1, activation=keras.activations.sigmoid),\n",
        "    ]\n",
        ")"
      ],
      "execution_count": 0,
      "outputs": []
    },
    {
      "cell_type": "code",
      "metadata": {
        "id": "KIyKGDZIE4oc",
        "colab_type": "code",
        "colab": {}
      },
      "source": [
        "gan = keras.models.Sequential([generator, discriminator])\n"
      ],
      "execution_count": 0,
      "outputs": []
    },
    {
      "cell_type": "code",
      "metadata": {
        "id": "ePkvAgejF_CE",
        "colab_type": "code",
        "colab": {}
      },
      "source": [
        "discriminator.compile(\n",
        "    loss=keras.losses.binary_crossentropy, optimizer=keras.optimizers.RMSprop(1e-3)\n",
        ")\n",
        "discriminator.trainable = False\n",
        "gan.compile(\n",
        "    loss=keras.losses.binary_crossentropy, optimizer=keras.optimizers.RMSprop(1e-3)\n",
        ")"
      ],
      "execution_count": 0,
      "outputs": []
    },
    {
      "cell_type": "code",
      "metadata": {
        "id": "olGQ1I8iE7qe",
        "colab_type": "code",
        "colab": {}
      },
      "source": [
        "train_gan(gan, train_data_2, BATCH_SIZE, codings_size, 50)"
      ],
      "execution_count": 0,
      "outputs": []
    },
    {
      "cell_type": "code",
      "metadata": {
        "id": "xrczcoxbIxhI",
        "colab_type": "code",
        "colab": {}
      },
      "source": [
        "discriminator.compile(\n",
        "    loss=keras.losses.binary_crossentropy, optimizer=keras.optimizers.RMSprop(2e-4)\n",
        ")\n",
        "discriminator.trainable = False\n",
        "gan.compile(\n",
        "    loss=keras.losses.binary_crossentropy, optimizer=keras.optimizers.RMSprop(2e-4)\n",
        ")"
      ],
      "execution_count": 0,
      "outputs": []
    },
    {
      "cell_type": "code",
      "metadata": {
        "id": "x1eYfP10JlWD",
        "colab_type": "code",
        "colab": {}
      },
      "source": [
        "train_gan(gan, train_data_2, BATCH_SIZE, codings_size, 50)"
      ],
      "execution_count": 0,
      "outputs": []
    },
    {
      "cell_type": "code",
      "metadata": {
        "id": "XYp2rKMCKLDW",
        "colab_type": "code",
        "colab": {}
      },
      "source": [
        "discriminator.compile(\n",
        "    loss=keras.losses.binary_crossentropy, optimizer=keras.optimizers.Adam(1e-3)\n",
        ")\n",
        "discriminator.trainable = False\n",
        "gan.compile(\n",
        "    loss=keras.losses.binary_crossentropy, optimizer=keras.optimizers.Adam(1e-3 )\n",
        ")"
      ],
      "execution_count": 0,
      "outputs": []
    },
    {
      "cell_type": "code",
      "metadata": {
        "id": "PnjIS_tzLgdc",
        "colab_type": "code",
        "colab": {}
      },
      "source": [
        "train_gan(gan, train_data_2, BATCH_SIZE, codings_size, 50)"
      ],
      "execution_count": 0,
      "outputs": []
    },
    {
      "cell_type": "code",
      "metadata": {
        "id": "nClD1BNsPm8V",
        "colab_type": "code",
        "colab": {}
      },
      "source": [
        "train_gan(gan, train_data_2, BATCH_SIZE, codings_size, 50)"
      ],
      "execution_count": 0,
      "outputs": []
    },
    {
      "cell_type": "markdown",
      "metadata": {
        "id": "CSX5GPsZ37CD",
        "colab_type": "text"
      },
      "source": [
        "# DCGAN"
      ]
    },
    {
      "cell_type": "code",
      "metadata": {
        "id": "WPwwYJatQxCn",
        "colab_type": "code",
        "colab": {}
      },
      "source": [
        "IMG_DIMS = (256,256,3)"
      ],
      "execution_count": 0,
      "outputs": []
    },
    {
      "cell_type": "code",
      "metadata": {
        "id": "5siFsLTbg4ak",
        "colab_type": "code",
        "colab": {}
      },
      "source": [
        "codings_size = 64"
      ],
      "execution_count": 0,
      "outputs": []
    },
    {
      "cell_type": "code",
      "metadata": {
        "id": "VFWBpVIwEmUp",
        "colab_type": "code",
        "colab": {}
      },
      "source": [
        "generator = keras.models.Sequential(\n",
        "    [\n",
        "        keras.layers.Dense(64 * 64 * 64, input_shape=[codings_size]),\n",
        "        keras.layers.Reshape([64, 64, 64]),\n",
        "        keras.layers.BatchNormalization(),\n",
        "        keras.layers.Conv2DTranspose(\n",
        "            128,\n",
        "            kernel_size=5,\n",
        "            strides=2,\n",
        "            padding=\"SAME\",\n",
        "            activation=keras.activations.selu,\n",
        "        ),\n",
        "        keras.layers.BatchNormalization(),\n",
        "        keras.layers.Conv2DTranspose(\n",
        "            3, kernel_size=5, strides=2, padding=\"SAME\", activation=\"sigmoid\"\n",
        "        ),\n",
        "    ]\n",
        ")"
      ],
      "execution_count": 0,
      "outputs": []
    },
    {
      "cell_type": "code",
      "metadata": {
        "id": "pZ8SDqbvwIGY",
        "colab_type": "code",
        "colab": {
          "base_uri": "https://localhost:8080/",
          "height": 380
        },
        "outputId": "df440e44-14ff-4511-dd23-3c5ce8eefe25"
      },
      "source": [
        "generator.summary()"
      ],
      "execution_count": 500,
      "outputs": [
        {
          "output_type": "stream",
          "text": [
            "Model: \"sequential_210\"\n",
            "_________________________________________________________________\n",
            "Layer (type)                 Output Shape              Param #   \n",
            "=================================================================\n",
            "dense_141 (Dense)            (None, 262144)            17039360  \n",
            "_________________________________________________________________\n",
            "reshape_69 (Reshape)         (None, 64, 64, 64)        0         \n",
            "_________________________________________________________________\n",
            "batch_normalization_138 (Bat (None, 64, 64, 64)        256       \n",
            "_________________________________________________________________\n",
            "conv2d_transpose_138 (Conv2D (None, 128, 128, 128)     204928    \n",
            "_________________________________________________________________\n",
            "batch_normalization_139 (Bat (None, 128, 128, 128)     512       \n",
            "_________________________________________________________________\n",
            "conv2d_transpose_139 (Conv2D (None, 256, 256, 3)       9603      \n",
            "=================================================================\n",
            "Total params: 17,254,659\n",
            "Trainable params: 17,254,275\n",
            "Non-trainable params: 384\n",
            "_________________________________________________________________\n"
          ],
          "name": "stdout"
        }
      ]
    },
    {
      "cell_type": "code",
      "metadata": {
        "id": "eZDBamD2IUed",
        "colab_type": "code",
        "colab": {}
      },
      "source": [
        "discriminator = keras.models.Sequential(\n",
        "    [\n",
        "        keras.layers.Conv2D(\n",
        "            256,\n",
        "            kernel_size=5,\n",
        "            strides=2,\n",
        "            padding=\"SAME\",\n",
        "            activation=keras.layers.LeakyReLU(0.2),\n",
        "            input_shape=[256, 256, 3],\n",
        "        ),\n",
        "        keras.layers.Dropout(0.4),\n",
        "        keras.layers.Conv2D(\n",
        "            512,\n",
        "            kernel_size=5,\n",
        "            strides=2,\n",
        "            padding=\"SAME\",\n",
        "            activation=keras.layers.LeakyReLU(0.2),\n",
        "        ),\n",
        "        keras.layers.Dropout(0.4),\n",
        "        keras.layers.Flatten(),\n",
        "        keras.layers.Dense(1, activation=keras.activations.sigmoid),\n",
        "    ]\n",
        ")"
      ],
      "execution_count": 0,
      "outputs": []
    },
    {
      "cell_type": "code",
      "metadata": {
        "id": "rX_9-Ds0wghA",
        "colab_type": "code",
        "colab": {
          "base_uri": "https://localhost:8080/",
          "height": 380
        },
        "outputId": "78fe5e72-f1c2-49d0-a067-03745a3fe4ba"
      },
      "source": [
        "discriminator.summary()"
      ],
      "execution_count": 502,
      "outputs": [
        {
          "output_type": "stream",
          "text": [
            "Model: \"sequential_211\"\n",
            "_________________________________________________________________\n",
            "Layer (type)                 Output Shape              Param #   \n",
            "=================================================================\n",
            "conv2d_144 (Conv2D)          (None, 128, 128, 256)     19456     \n",
            "_________________________________________________________________\n",
            "dropout_144 (Dropout)        (None, 128, 128, 256)     0         \n",
            "_________________________________________________________________\n",
            "conv2d_145 (Conv2D)          (None, 64, 64, 512)       3277312   \n",
            "_________________________________________________________________\n",
            "dropout_145 (Dropout)        (None, 64, 64, 512)       0         \n",
            "_________________________________________________________________\n",
            "flatten_72 (Flatten)         (None, 2097152)           0         \n",
            "_________________________________________________________________\n",
            "dense_142 (Dense)            (None, 1)                 2097153   \n",
            "=================================================================\n",
            "Total params: 5,393,921\n",
            "Trainable params: 5,393,921\n",
            "Non-trainable params: 0\n",
            "_________________________________________________________________\n"
          ],
          "name": "stdout"
        }
      ]
    },
    {
      "cell_type": "code",
      "metadata": {
        "id": "IO1oTU47IWXL",
        "colab_type": "code",
        "colab": {}
      },
      "source": [
        "gan = keras.models.Sequential([generator, discriminator])"
      ],
      "execution_count": 0,
      "outputs": []
    },
    {
      "cell_type": "code",
      "metadata": {
        "id": "-jF2k5YjIXxS",
        "colab_type": "code",
        "colab": {}
      },
      "source": [
        "discriminator.compile(\n",
        "    loss=keras.losses.binary_crossentropy, optimizer=keras.optimizers.RMSprop(1e-3)\n",
        ")\n",
        "discriminator.trainable = False\n",
        "gan.compile(\n",
        "    loss=keras.losses.binary_crossentropy, optimizer=keras.optimizers.RMSprop(1e-3)\n",
        ")"
      ],
      "execution_count": 0,
      "outputs": []
    },
    {
      "cell_type": "code",
      "metadata": {
        "id": "Nk-P4jBmIY_u",
        "colab_type": "code",
        "colab": {}
      },
      "source": [
        "#train_data_dcgan = train_data.reshape(-1, 28, 28, 1) * 2.0 - 1.0 "
      ],
      "execution_count": 0,
      "outputs": []
    },
    {
      "cell_type": "code",
      "metadata": {
        "id": "2mMVptPaIfXA",
        "colab_type": "code",
        "colab": {}
      },
      "source": [
        "train_gan(gan, train_data_2, BATCH_SIZE, codings_size, 50)"
      ],
      "execution_count": 0,
      "outputs": []
    },
    {
      "cell_type": "code",
      "metadata": {
        "id": "YScZcvgEmww6",
        "colab_type": "code",
        "colab": {}
      },
      "source": [
        "#IMG_DIMS=(28,28,3)"
      ],
      "execution_count": 0,
      "outputs": []
    },
    {
      "cell_type": "code",
      "metadata": {
        "id": "gGIMC0pwpCNS",
        "colab_type": "code",
        "colab": {}
      },
      "source": [
        ""
      ],
      "execution_count": 0,
      "outputs": []
    },
    {
      "cell_type": "code",
      "metadata": {
        "id": "2uVslmODGIyF",
        "colab_type": "code",
        "colab": {}
      },
      "source": [
        "def wasserstein_loss(y_true, y_pred):\n",
        "  return mean(y_true * y_pred)"
      ],
      "execution_count": 0,
      "outputs": []
    }
  ]
}